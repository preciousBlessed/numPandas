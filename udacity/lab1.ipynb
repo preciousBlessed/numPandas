{
 "cells": [
  {
   "cell_type": "markdown",
   "id": "b50f9200",
   "metadata": {},
   "source": [
    "# Objectives of Lesson\n",
    "\n",
    "In the following lessons you will learn:\n",
    "\n",
    "    How to import NumPy\n",
    "    How to create multidimensional NumPy ndarrays using various methods\n",
    "    How to access and change elements in ndarrays\n",
    "    How to load and save ndarrays\n",
    "    How to use slicing to select or change subsets of an ndarray\n",
    "    Understand the difference between a view and a copy an of ndarray\n",
    "    How to use Boolean indexing and set operations to select or change subsets of an ndarray\n",
    "    How to sort ndarrays\n",
    "    How to perform element-wise operations on ndarrays\n",
    "    Understand how NumPy uses broadcasting to perform operations on ndarrays of different sizes."
   ]
  },
  {
   "cell_type": "markdown",
   "id": "0d50ca5d",
   "metadata": {},
   "source": [
    "[NumPy Manual](https://docs.scipy.org/doc/numpy-1.13.0/contents.html)\n",
    "\n",
    "[NumPy User Guide](https://numpy.org/devdocs/user/index.html)\n",
    "\n",
    "[NumPy Reference](https://numpy.org/devdocs/reference/index.html)\n",
    "\n",
    "[Scipy Lectures](https://docs.scipy.org/doc/scipy/)"
   ]
  },
  {
   "cell_type": "code",
   "execution_count": 1,
   "id": "c4d3e3e6",
   "metadata": {},
   "outputs": [],
   "source": [
    "import time, numpy as np"
   ]
  },
  {
   "cell_type": "code",
   "execution_count": 7,
   "id": "6c3463de",
   "metadata": {},
   "outputs": [],
   "source": [
    "x = np.random.random(100000000)"
   ]
  },
  {
   "cell_type": "code",
   "execution_count": 8,
   "id": "027f55dc",
   "metadata": {},
   "outputs": [
    {
     "name": "stdout",
     "output_type": "stream",
     "text": [
      "0.9999999801501076 2.7533402224833026e-09\n"
     ]
    }
   ],
   "source": [
    "print(max(x), min(x))"
   ]
  },
  {
   "cell_type": "code",
   "execution_count": 11,
   "id": "4039e26a",
   "metadata": {},
   "outputs": [
    {
     "name": "stdout",
     "output_type": "stream",
     "text": [
      "20.166436195373535\n"
     ]
    }
   ],
   "source": [
    "start = time.time()\n",
    "sum(x)/len(x)\n",
    "print(time.time() - start)"
   ]
  },
  {
   "cell_type": "code",
   "execution_count": 10,
   "id": "0c61a924",
   "metadata": {},
   "outputs": [
    {
     "name": "stdout",
     "output_type": "stream",
     "text": [
      "0.2408764362335205\n"
     ]
    }
   ],
   "source": [
    "start = time.time()\n",
    "np.mean(x)\n",
    "print(time.time() - start)"
   ]
  },
  {
   "cell_type": "code",
   "execution_count": 15,
   "id": "cf50da00",
   "metadata": {},
   "outputs": [
    {
     "data": {
      "text/plain": [
       "tuple"
      ]
     },
     "execution_count": 15,
     "metadata": {},
     "output_type": "execute_result"
    }
   ],
   "source": [
    "type(np.shape(x))"
   ]
  },
  {
   "cell_type": "code",
   "execution_count": null,
   "id": "ee738869",
   "metadata": {},
   "outputs": [],
   "source": []
  },
  {
   "cell_type": "code",
   "execution_count": null,
   "id": "d4f120ad",
   "metadata": {},
   "outputs": [],
   "source": []
  }
 ],
 "metadata": {
  "kernelspec": {
   "display_name": "Python 3",
   "language": "python",
   "name": "python3"
  },
  "language_info": {
   "codemirror_mode": {
    "name": "ipython",
    "version": 3
   },
   "file_extension": ".py",
   "mimetype": "text/x-python",
   "name": "python",
   "nbconvert_exporter": "python",
   "pygments_lexer": "ipython3",
   "version": "3.12.10"
  }
 },
 "nbformat": 4,
 "nbformat_minor": 5
}
