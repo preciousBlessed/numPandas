{
 "cells": [
  {
   "cell_type": "markdown",
   "id": "1e763ce0",
   "metadata": {},
   "source": [
    "# Creating ndArrays with Inbuilt Functions"
   ]
  },
  {
   "cell_type": "code",
   "execution_count": 2,
   "id": "471e75a4",
   "metadata": {},
   "outputs": [],
   "source": [
    "import numpy as np"
   ]
  },
  {
   "cell_type": "markdown",
   "id": "b9ae7bde",
   "metadata": {},
   "source": [
    "## `np.zeros(shape)`"
   ]
  },
  {
   "cell_type": "code",
   "execution_count": 13,
   "id": "91dc30da",
   "metadata": {},
   "outputs": [
    {
     "name": "stdout",
     "output_type": "stream",
     "text": [
      "[[0. 0. 0. 0.]\n",
      " [0. 0. 0. 0.]\n",
      " [0. 0. 0. 0.]]\n",
      "float64\n",
      "\n",
      "\n",
      "[[0 0 0 0]\n",
      " [0 0 0 0]\n",
      " [0 0 0 0]]\n",
      "int32\n"
     ]
    }
   ],
   "source": [
    "X = np.zeros((3,4))\n",
    "print(X)\n",
    "print(X.dtype)\n",
    "\n",
    "print(\"\\n\")\n",
    "\n",
    "X= np.zeros((3,4), dtype=int)\n",
    "print(X)\n",
    "print(X.dtype)"
   ]
  },
  {
   "cell_type": "markdown",
   "id": "ec7eb099",
   "metadata": {},
   "source": [
    "## `np.ones(shape)`"
   ]
  },
  {
   "cell_type": "code",
   "execution_count": 14,
   "id": "f26a9f72",
   "metadata": {},
   "outputs": [
    {
     "name": "stdout",
     "output_type": "stream",
     "text": [
      "[[1. 1. 1. 1.]\n",
      " [1. 1. 1. 1.]\n",
      " [1. 1. 1. 1.]]\n",
      "float64\n"
     ]
    }
   ],
   "source": [
    "X2 = np.ones((3,4))\n",
    "print(X2)\n",
    "print(X2.dtype)"
   ]
  },
  {
   "cell_type": "markdown",
   "id": "34ba893a",
   "metadata": {},
   "source": [
    "## `np.full(shape, constant)`"
   ]
  },
  {
   "cell_type": "code",
   "execution_count": 15,
   "id": "ccc09aec",
   "metadata": {},
   "outputs": [
    {
     "name": "stdout",
     "output_type": "stream",
     "text": [
      "[[5 5 5 5 5]\n",
      " [5 5 5 5 5]\n",
      " [5 5 5 5 5]\n",
      " [5 5 5 5 5]]\n",
      "int32\n",
      "[[5. 5. 5. 5. 5.]\n",
      " [5. 5. 5. 5. 5.]\n",
      " [5. 5. 5. 5. 5.]\n",
      " [5. 5. 5. 5. 5.]]\n",
      "float64\n"
     ]
    }
   ],
   "source": [
    "X3 = np.full((4,5), 5)\n",
    "print(X3)\n",
    "print(X3.dtype)\n",
    "\n",
    "\n",
    "X3 = np.full((4,5), 5, dtype=np.float64)\n",
    "print(X3)\n",
    "print(X3.dtype)"
   ]
  },
  {
   "cell_type": "markdown",
   "id": "dfc66634",
   "metadata": {},
   "source": [
    "## `np.eye(size)`"
   ]
  },
  {
   "cell_type": "code",
   "execution_count": 16,
   "id": "9edcf8f0",
   "metadata": {},
   "outputs": [
    {
     "name": "stdout",
     "output_type": "stream",
     "text": [
      "[[1 0 0 0 0]\n",
      " [0 1 0 0 0]\n",
      " [0 0 1 0 0]\n",
      " [0 0 0 1 0]\n",
      " [0 0 0 0 1]]\n",
      "int32\n"
     ]
    }
   ],
   "source": [
    "X4 = np.eye(5, dtype=int) #dtype is optional\n",
    "print(X4)\n",
    "print(X4.dtype)"
   ]
  },
  {
   "cell_type": "markdown",
   "id": "3b34b5af",
   "metadata": {},
   "source": [
    "## `np.diag(list_or_tuple)`"
   ]
  },
  {
   "cell_type": "code",
   "execution_count": 22,
   "id": "e6926d6f",
   "metadata": {},
   "outputs": [
    {
     "name": "stdout",
     "output_type": "stream",
     "text": [
      "[[1 0 0 0]\n",
      " [0 3 0 0]\n",
      " [0 0 3 0]\n",
      " [0 0 0 1]] int32\n"
     ]
    }
   ],
   "source": [
    "X5 = np.diag((1,3,3,1))\n",
    "print(X5, X5.dtype)\n"
   ]
  },
  {
   "cell_type": "markdown",
   "id": "7cc673d1",
   "metadata": {},
   "source": [
    "## `np.arange(start, stop, step)`"
   ]
  },
  {
   "cell_type": "markdown",
   "id": "2da2efa0",
   "metadata": {},
   "source": [
    "In the output, `stop` is not inclusive. "
   ]
  },
  {
   "cell_type": "code",
   "execution_count": null,
   "id": "e3a495cc",
   "metadata": {},
   "outputs": [
    {
     "name": "stdout",
     "output_type": "stream",
     "text": [
      "[0 1 2 3 4 5 6 7 8 9]\n",
      "[-9 -8 -7 -6 -5 -4 -3 -2 -1  0  1  2  3  4  5  6  7  8]\n",
      "[1.  1.5 2.  2.5 3.  3.5 4.  4.5]\n"
     ]
    }
   ],
   "source": [
    "X6 = np.arange(10) #with only one parameter specified\n",
    "print(X6)\n",
    "\n",
    "X6 = np.arange(-9, 9) #with two paramteters specified\n",
    "print(X6)\n",
    "\n",
    "X6 = np.arange(1, 5, 0.5) # with three parameters. But it is not advisable to use this one for decimal steps, use np.linspace\n",
    "print(X6)"
   ]
  },
  {
   "cell_type": "markdown",
   "id": "f7ba77fe",
   "metadata": {},
   "source": [
    "## `np.linspace(start, stop, number_of_points_n)`"
   ]
  },
  {
   "cell_type": "markdown",
   "id": "65aeffa2",
   "metadata": {},
   "source": [
    "In the output, `stop` is inclusive"
   ]
  },
  {
   "cell_type": "code",
   "execution_count": 32,
   "id": "3c1704bf",
   "metadata": {},
   "outputs": [
    {
     "name": "stdout",
     "output_type": "stream",
     "text": [
      "[1.         1.08163265 1.16326531 1.24489796 1.32653061 1.40816327\n",
      " 1.48979592 1.57142857 1.65306122 1.73469388 1.81632653 1.89795918\n",
      " 1.97959184 2.06122449 2.14285714 2.2244898  2.30612245 2.3877551\n",
      " 2.46938776 2.55102041 2.63265306 2.71428571 2.79591837 2.87755102\n",
      " 2.95918367 3.04081633 3.12244898 3.20408163 3.28571429 3.36734694\n",
      " 3.44897959 3.53061224 3.6122449  3.69387755 3.7755102  3.85714286\n",
      " 3.93877551 4.02040816 4.10204082 4.18367347 4.26530612 4.34693878\n",
      " 4.42857143 4.51020408 4.59183673 4.67346939 4.75510204 4.83673469\n",
      " 4.91836735 5.        ]\n",
      "[1.         1.44444444 1.88888889 2.33333333 2.77777778 3.22222222\n",
      " 3.66666667 4.11111111 4.55555556 5.        ]\n"
     ]
    }
   ],
   "source": [
    "X7 = np.linspace(1, 5) # if n is not specified, it defaults to 50\n",
    "print(X7)\n",
    "\n",
    "X7 = np.linspace(1, 5, 10) # if n be specified, it returns n points including start and stop\n",
    "print(X7)"
   ]
  },
  {
   "cell_type": "markdown",
   "id": "5fa64a00",
   "metadata": {},
   "source": [
    "For any start $a$ to stop $b$, to insert have $n$ points including $a$ and $b$, step size $\\delta$ can be found using,\n",
    "\n",
    "$$\n",
    "\\delta = \\frac{b-a}{n-1}\n",
    "$$\n",
    "\n",
    "So we can see that to insert $10$ points including $1$ and $5$, the step size $\\delta = \\frac{5-1}{9} = \\frac{4}{9} = 0.4444$"
   ]
  },
  {
   "cell_type": "code",
   "execution_count": null,
   "id": "7d8ba520",
   "metadata": {},
   "outputs": [
    {
     "name": "stdout",
     "output_type": "stream",
     "text": [
      "[1.  1.4 1.8 2.2 2.6 3.  3.4 3.8 4.2 4.6] float64\n"
     ]
    }
   ],
   "source": [
    "# Hacking the endpoint\n",
    "# we can remove the endpoint in the linspace output\n",
    "X7 = np.linspace(1, 5, 10, endpoint=False)\n",
    "print(X7, X7.dtype)"
   ]
  },
  {
   "cell_type": "markdown",
   "id": "2d33a074",
   "metadata": {},
   "source": [
    "The step size in this case varries.\n",
    "\n",
    "$$\n",
    "\\delta = \\frac{b-a}{n}\n",
    "$$\n",
    "\n",
    "So for $X7$ above, $\\delta = \\frac{5-1}{10} = 0.4$"
   ]
  },
  {
   "cell_type": "markdown",
   "id": "b5037a0c",
   "metadata": {},
   "source": [
    "## Converting rank 1 arrays to rank 2 arrays: `np.rashape(1darray, shape)`"
   ]
  },
  {
   "cell_type": "code",
   "execution_count": 44,
   "id": "19e54e50",
   "metadata": {},
   "outputs": [
    {
     "name": "stdout",
     "output_type": "stream",
     "text": [
      "[ 1  2  3  4  5  6  7  8  9 10 11 12 13 14 15 16 17 18 19 20]\n",
      "\n",
      "[[ 1  2]\n",
      " [ 3  4]\n",
      " [ 5  6]\n",
      " [ 7  8]\n",
      " [ 9 10]\n",
      " [11 12]\n",
      " [13 14]\n",
      " [15 16]\n",
      " [17 18]\n",
      " [19 20]]\n",
      "\n",
      "[[1. 2. 3.]\n",
      " [4. 5. 6.]\n",
      " [7. 8. 9.]]\n"
     ]
    }
   ],
   "source": [
    "X8 = np.linspace(1, 20, 20, dtype=int)\n",
    "print(X8)\n",
    "\n",
    "print()\n",
    "\n",
    "X8 = np.reshape(X8, (10, 2))\n",
    "print(X8)\n",
    "\n",
    "print()\n",
    "\n",
    "X8 = np.linspace(1, 9, 9).reshape((3,3)) #reshape as a method\n",
    "print(X8)"
   ]
  },
  {
   "cell_type": "markdown",
   "id": "d57fea2a",
   "metadata": {},
   "source": [
    "# Practical Use Case: Randomly Initializing the weights of a Neural Network"
   ]
  },
  {
   "cell_type": "markdown",
   "id": "0e7f90c6",
   "metadata": {},
   "source": [
    "Let's create an array of a given shape $(m, n)$ with random floats between $0$ and $1$"
   ]
  },
  {
   "cell_type": "markdown",
   "id": "1be5d1d4",
   "metadata": {},
   "source": [
    "## `np.random.random(size).reshape(shape)` or `np.random.random(shape)`"
   ]
  },
  {
   "cell_type": "code",
   "execution_count": 51,
   "id": "d314ad50",
   "metadata": {},
   "outputs": [
    {
     "name": "stdout",
     "output_type": "stream",
     "text": [
      "[[0.53477594 0.39156165 0.59795276]\n",
      " [0.2187893  0.50016443 0.89560464]\n",
      " [0.93894222 0.69330922 0.43729359]]\n",
      "\n",
      "[[0.66316351 0.78119803 0.73019733]\n",
      " [0.66865357 0.82340923 0.26744144]\n",
      " [0.55326825 0.03184088 0.19021536]]\n"
     ]
    }
   ],
   "source": [
    "X9 = np.random.random(9).reshape((3,3))\n",
    "print(X9)\n",
    "\n",
    "print()\n",
    "\n",
    "X9 = np.random.random((3,3))\n",
    "print(X9)"
   ]
  },
  {
   "cell_type": "markdown",
   "id": "2e27b1ee",
   "metadata": {},
   "source": [
    "## `np.random.randint(lower_bound, upper_bound, shape)`"
   ]
  },
  {
   "cell_type": "code",
   "execution_count": null,
   "id": "cc574921",
   "metadata": {},
   "outputs": [
    {
     "name": "stdout",
     "output_type": "stream",
     "text": [
      "[[ 8  4]\n",
      " [ 9  5]\n",
      " [12  5]]\n"
     ]
    }
   ],
   "source": [
    "X10 = np.random.randint(4, 15, (3,2)) # lower bound inclusive, upper bound exclusive\n",
    "print(X10)"
   ]
  },
  {
   "cell_type": "markdown",
   "id": "450a1c17",
   "metadata": {},
   "source": [
    "# Random Numbers satisfying Certain Statistical Properties"
   ]
  },
  {
   "cell_type": "markdown",
   "id": "f77407a2",
   "metadata": {},
   "source": [
    "## `np.random.normal(mean, std, shape)`"
   ]
  },
  {
   "cell_type": "code",
   "execution_count": 54,
   "id": "a5ac22ce",
   "metadata": {},
   "outputs": [
    {
     "name": "stdout",
     "output_type": "stream",
     "text": [
      "[[-0.0384712  -0.1788607  -0.00358888 ... -0.09612637  0.16318274\n",
      "  -0.07001409]\n",
      " [ 0.19388836 -0.14709334 -0.02988779 ...  0.0909294   0.00370989\n",
      "  -0.14669617]\n",
      " [-0.03514991 -0.19218771 -0.05279152 ...  0.02790677  0.19204514\n",
      "   0.06034965]\n",
      " ...\n",
      " [ 0.05562468  0.01304808 -0.00547991 ... -0.06319021  0.0223167\n",
      "   0.05926964]\n",
      " [-0.0369523  -0.03037349 -0.17486125 ...  0.04722409  0.06191622\n",
      "  -0.0016285 ]\n",
      " [-0.07209071  0.07872495 -0.06071073 ...  0.00584354 -0.05097514\n",
      "   0.03903759]]\n"
     ]
    }
   ],
   "source": [
    "X11 = np.random.normal(0, 0.1, (1000, 1000))\n",
    "print(X11)"
   ]
  },
  {
   "cell_type": "code",
   "execution_count": 56,
   "id": "b6910b4f",
   "metadata": {},
   "outputs": [
    {
     "name": "stdout",
     "output_type": "stream",
     "text": [
      "mean: -0.0001802363315031826\n",
      "std: 0.10006839373448675\n",
      "max: 0.46179090640232545\n",
      "min: -0.5153853638485069\n",
      "mean: 498988\n",
      "mean: 501012\n"
     ]
    }
   ],
   "source": [
    "print(\"mean:\", X11.mean())\n",
    "print(\"std:\", X11.std())\n",
    "print(\"max:\", X11.max())\n",
    "print(\"min:\", X11.min())\n",
    "print(\"mean:\", (X11 > 0).sum())\n",
    "print(\"mean:\", (X11 < 0).sum())"
   ]
  },
  {
   "cell_type": "markdown",
   "id": "70d4d82a",
   "metadata": {},
   "source": [
    "# Exercise"
   ]
  },
  {
   "cell_type": "markdown",
   "id": "097b4bd8",
   "metadata": {},
   "source": [
    "Create an ndarray"
   ]
  },
  {
   "cell_type": "code",
   "execution_count": 63,
   "id": "4a77c2f2",
   "metadata": {},
   "outputs": [
    {
     "name": "stdout",
     "output_type": "stream",
     "text": [
      "[[ 2  4  6  8]\n",
      " [10 12 14 16]\n",
      " [18 20 22 24]\n",
      " [26 28 30 32]]\n",
      "\n",
      "[[ 2.  4.  6.  8.]\n",
      " [10. 12. 14. 16.]\n",
      " [18. 20. 22. 24.]\n",
      " [26. 28. 30. 32.]]\n",
      "\n",
      "[[1.02781748 4.33512804 4.05626444 2.35781837]\n",
      " [4.68089874 5.04801738 4.22270343 3.20190565]\n",
      " [2.83313286 1.44465584 1.23003296 3.5355419 ]\n",
      " [4.02449153 1.0616054  3.12892199 1.94142399]]\n",
      "\n",
      "[[0.80575079 0.67932217 0.39761083]\n",
      " [0.96214601 0.64726047 0.96346257]\n",
      " [0.9000355  0.04014169 0.12821446]\n",
      " [0.12262396 0.7505933  0.80646284]]\n"
     ]
    }
   ],
   "source": [
    "# Solutions\n",
    "X = np.arange(2,34,2).reshape(4,4)\n",
    "print(X)\n",
    "\n",
    "print()\n",
    "X = np.linspace(2,32,16).reshape(4,4)\n",
    "print(X)\n",
    "\n",
    "print()\n",
    "X = np.random.uniform(1, 6, (4,4))\n",
    "print(X)\n",
    "\n",
    "print()\n",
    "X = np.random.uniform(0, 1, 12).reshape(4,3)\n",
    "print(X)"
   ]
  }
 ],
 "metadata": {
  "kernelspec": {
   "display_name": "Python 3",
   "language": "python",
   "name": "python3"
  },
  "language_info": {
   "codemirror_mode": {
    "name": "ipython",
    "version": 3
   },
   "file_extension": ".py",
   "mimetype": "text/x-python",
   "name": "python",
   "nbconvert_exporter": "python",
   "pygments_lexer": "ipython3",
   "version": "3.12.10"
  }
 },
 "nbformat": 4,
 "nbformat_minor": 5
}
