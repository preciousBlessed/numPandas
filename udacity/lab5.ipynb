{
 "cells": [
  {
   "cell_type": "markdown",
   "id": "868bbb3c",
   "metadata": {},
   "source": [
    "# Slicing nd Arrays\n",
    "\n",
    "We do this to access a subset of the ndarray, unklike indexing that accesses individual elements."
   ]
  },
  {
   "cell_type": "code",
   "execution_count": 1,
   "id": "608392b7",
   "metadata": {},
   "outputs": [],
   "source": [
    "import numpy as np"
   ]
  },
  {
   "cell_type": "markdown",
   "id": "20fadc09",
   "metadata": {},
   "source": [
    "## Three Ways of Slicing\n",
    "\n",
    "    1. ndarray[start:end]\n",
    "    2. ndarray[start:]\n",
    "    3. ndarray[:end]"
   ]
  },
  {
   "cell_type": "markdown",
   "id": "a5dae37d",
   "metadata": {},
   "source": [
    "Since numpy arrays are n-dimensional, we have to specify a slice for each dimension."
   ]
  },
  {
   "cell_type": "code",
   "execution_count": 2,
   "id": "7233e1bd",
   "metadata": {},
   "outputs": [
    {
     "name": "stdout",
     "output_type": "stream",
     "text": [
      "[[ 1  2  3  4  5]\n",
      " [ 6  7  8  9 10]\n",
      " [11 12 13 14 15]\n",
      " [16 17 18 19 20]]\n"
     ]
    }
   ],
   "source": [
    "X = np.arange(1,21).reshape(4,5)\n",
    "print(X)"
   ]
  },
  {
   "cell_type": "code",
   "execution_count": 3,
   "id": "96bf80d8",
   "metadata": {},
   "outputs": [
    {
     "name": "stdout",
     "output_type": "stream",
     "text": [
      "[[ 8  9 10]\n",
      " [13 14 15]\n",
      " [18 19 20]]\n"
     ]
    }
   ],
   "source": [
    "z = X[1:4, 2:5] #ndarray[a:b, c:d] must satisfy c - c == b - a\n",
    "print(z)"
   ]
  },
  {
   "cell_type": "code",
   "execution_count": null,
   "id": "b4b5a571",
   "metadata": {},
   "outputs": [
    {
     "name": "stdout",
     "output_type": "stream",
     "text": [
      "[[ 8  9 10]\n",
      " [13 14 15]\n",
      " [18 19 20]]\n"
     ]
    }
   ],
   "source": [
    "# The same thing\n",
    "z = X[1:, 2:]\n",
    "print(z)"
   ]
  },
  {
   "cell_type": "code",
   "execution_count": 5,
   "id": "0a8ff345",
   "metadata": {},
   "outputs": [
    {
     "name": "stdout",
     "output_type": "stream",
     "text": [
      "[[ 3  4  5]\n",
      " [ 8  9 10]\n",
      " [13 14 15]]\n"
     ]
    }
   ],
   "source": [
    "# same columns, but different rows\n",
    "z = X[:3, 2:]\n",
    "print(z)"
   ]
  },
  {
   "cell_type": "code",
   "execution_count": null,
   "id": "ff8288b1",
   "metadata": {},
   "outputs": [
    {
     "name": "stdout",
     "output_type": "stream",
     "text": [
      "[[11 12 13 14 15]]\n"
     ]
    }
   ],
   "source": [
    "# Try to select all the elements in the third row\n",
    "z = X[2:3, :]\n",
    "print(z)"
   ]
  },
  {
   "cell_type": "markdown",
   "id": "73179fc2",
   "metadata": {},
   "source": [
    "Rows are horizontal but they are selected vertical wise!"
   ]
  },
  {
   "cell_type": "code",
   "execution_count": null,
   "id": "fe79e50d",
   "metadata": {},
   "outputs": [
    {
     "name": "stdout",
     "output_type": "stream",
     "text": [
      "[ 3  8 13 18] (4,)\n"
     ]
    }
   ],
   "source": [
    "# Select all the rows in column 2 (all elements )\n",
    "z = X[:, 2] # ndarray[VERTICAL-WISE, HORIZONTAL-WISE]\n",
    "print(z, z.shape) #returns a rank 1 numpy array  array"
   ]
  },
  {
   "cell_type": "code",
   "execution_count": 12,
   "id": "d0ff230b",
   "metadata": {},
   "outputs": [
    {
     "name": "stdout",
     "output_type": "stream",
     "text": [
      "[[ 3]\n",
      " [ 8]\n",
      " [13]\n",
      " [18]]\n",
      "(4, 1)\n",
      "\n",
      "[[ 3]\n",
      " [ 8]\n",
      " [13]\n",
      " [18]]\n",
      "(4, 1)\n"
     ]
    }
   ],
   "source": [
    "# Select all the elements in the thrid column and return it in a rank 2 array\n",
    "z = X[:, 2].reshape(X.shape[0], 1)\n",
    "print(z)\n",
    "print(z.shape)\n",
    "\n",
    "# or\n",
    "print()\n",
    "z = X[:, 2:3]\n",
    "print(z)\n",
    "print(z.shape)"
   ]
  },
  {
   "cell_type": "markdown",
   "id": "6de42678",
   "metadata": {},
   "source": [
    "When we slice into a new variable, the data isn't actually copied into a new variable."
   ]
  },
  {
   "cell_type": "markdown",
   "id": "a542bc26",
   "metadata": {},
   "source": [
    "In the example above, the slice of the array X is not copied into z, rather, X and z are just two different names for the same array. We say that slicing only creates a view of the original array. This is to the effect that if you make changes in z, you'll also be making the same changes in the background in X."
   ]
  },
  {
   "cell_type": "code",
   "execution_count": 14,
   "id": "7ba52f92",
   "metadata": {},
   "outputs": [
    {
     "name": "stdout",
     "output_type": "stream",
     "text": [
      "[[ 1  2  3  4  5]\n",
      " [ 6  7  8  9 10]\n",
      " [11 12 13 14 15]\n",
      " [16 17 18 19 20]]\n"
     ]
    }
   ],
   "source": [
    "# Example\n",
    "print(X)"
   ]
  },
  {
   "cell_type": "code",
   "execution_count": 15,
   "id": "7735c4ea",
   "metadata": {},
   "outputs": [
    {
     "name": "stdout",
     "output_type": "stream",
     "text": [
      "[[ 8  9 10]\n",
      " [13 14 15]\n",
      " [18 19 20]]\n"
     ]
    }
   ],
   "source": [
    "z = X[1:, 2:]\n",
    "print(z)"
   ]
  },
  {
   "cell_type": "code",
   "execution_count": 16,
   "id": "7df68deb",
   "metadata": {},
   "outputs": [
    {
     "name": "stdout",
     "output_type": "stream",
     "text": [
      "[[  8   9  10]\n",
      " [ 13  14  15]\n",
      " [ 18  19 555]]\n"
     ]
    }
   ],
   "source": [
    "z[2,2] = 555\n",
    "print(z)"
   ]
  },
  {
   "cell_type": "code",
   "execution_count": null,
   "id": "8a554d1c",
   "metadata": {},
   "outputs": [
    {
     "name": "stdout",
     "output_type": "stream",
     "text": [
      "[[  1   2   3   4   5]\n",
      " [  6   7   8   9  10]\n",
      " [ 11  12  13  14  15]\n",
      " [ 16  17  18  19 555]]\n"
     ]
    }
   ],
   "source": [
    "print(X) # see that changing z also changed X."
   ]
  },
  {
   "cell_type": "markdown",
   "id": "c9dc49e5",
   "metadata": {},
   "source": [
    "But using the copy function or copy method, we can avoid this."
   ]
  },
  {
   "cell_type": "code",
   "execution_count": 23,
   "id": "9ad8ed19",
   "metadata": {},
   "outputs": [
    {
     "name": "stdout",
     "output_type": "stream",
     "text": [
      "[[ 1  2  3  4  5]\n",
      " [ 6  7  8  9 10]\n",
      " [11 12 13 14 15]\n",
      " [16 17 18 19 20]]\n"
     ]
    }
   ],
   "source": [
    "X = np.arange(1, 21).reshape(4, 5)\n",
    "print(X)"
   ]
  },
  {
   "cell_type": "code",
   "execution_count": 25,
   "id": "c77ce662",
   "metadata": {},
   "outputs": [
    {
     "name": "stdout",
     "output_type": "stream",
     "text": [
      "[[ 8  9 10]\n",
      " [13 14 15]\n",
      " [18 19 20]]\n",
      "\n",
      "[[ 8  9 10]\n",
      " [13 14 15]\n",
      " [18 19 20]]\n"
     ]
    }
   ],
   "source": [
    "z = np.copy(X[1:, 2:]) #copy as a function\n",
    "print(z)\n",
    "\n",
    "print()\n",
    "z = X[1:, 2:].copy() #copy as a method\n",
    "print(z)"
   ]
  },
  {
   "cell_type": "code",
   "execution_count": 26,
   "id": "432caa07",
   "metadata": {},
   "outputs": [
    {
     "name": "stdout",
     "output_type": "stream",
     "text": [
      "[[  8   9  10]\n",
      " [ 13  14  15]\n",
      " [ 18  19 555]]\n",
      "\n",
      "[[ 1  2  3  4  5]\n",
      " [ 6  7  8  9 10]\n",
      " [11 12 13 14 15]\n",
      " [16 17 18 19 20]]\n"
     ]
    }
   ],
   "source": [
    "# changing the last element in z, to see whether it affected X\n",
    "z[2,2] = 555\n",
    "print(z)\n",
    "\n",
    "print()\n",
    "print(X)"
   ]
  },
  {
   "cell_type": "markdown",
   "id": "89de05c6",
   "metadata": {},
   "source": [
    "Create array as indices to make slices, select or change elements in another numpy array"
   ]
  },
  {
   "cell_type": "code",
   "execution_count": 28,
   "id": "4e87d34a",
   "metadata": {},
   "outputs": [
    {
     "name": "stdout",
     "output_type": "stream",
     "text": [
      "[[-19 -18 -17 -16 -15]\n",
      " [-14 -13 -12 -11 -10]\n",
      " [ -9  -8  -7  -6  -5]\n",
      " [ -4  -3  -2  -1   0]]\n"
     ]
    }
   ],
   "source": [
    "X = np.arange(-19, 1).reshape(4,5)\n",
    "print(X)"
   ]
  },
  {
   "cell_type": "code",
   "execution_count": 30,
   "id": "e15ec801",
   "metadata": {},
   "outputs": [
    {
     "name": "stdout",
     "output_type": "stream",
     "text": [
      "[1 3] (2,)\n"
     ]
    }
   ],
   "source": [
    "indices = np.array([1, 3])\n",
    "print(indices, indices.shape)"
   ]
  },
  {
   "cell_type": "code",
   "execution_count": 32,
   "id": "fb23ff93",
   "metadata": {},
   "outputs": [
    {
     "name": "stdout",
     "output_type": "stream",
     "text": [
      "[[-14 -13 -12 -11 -10]\n",
      " [ -4  -3  -2  -1   0]]\n"
     ]
    }
   ],
   "source": [
    "# Using the indices to select some subsets of X\n",
    "z = X[indices, :] #select the 2nd and 4th rows of X\n",
    "print(z)"
   ]
  },
  {
   "cell_type": "code",
   "execution_count": null,
   "id": "d4390c4c",
   "metadata": {},
   "outputs": [
    {
     "name": "stdout",
     "output_type": "stream",
     "text": [
      "[[-18 -16]\n",
      " [-13 -11]\n",
      " [ -8  -6]\n",
      " [ -3  -1]]\n"
     ]
    }
   ],
   "source": [
    "# Using the indices to select some subsets of X\n",
    "z = X[:, indices] #select the 2nd and 4th columns of X\n",
    "print(z)"
   ]
  },
  {
   "cell_type": "markdown",
   "id": "bbeea9d1",
   "metadata": {},
   "source": [
    "## Other Builtin Functions for Selection of Specific Elements from the numpy Array"
   ]
  },
  {
   "cell_type": "markdown",
   "id": "e0c91ef0",
   "metadata": {},
   "source": [
    "### `np.diag(ndarray)`"
   ]
  },
  {
   "cell_type": "code",
   "execution_count": 34,
   "id": "b6468a7e",
   "metadata": {},
   "outputs": [
    {
     "name": "stdout",
     "output_type": "stream",
     "text": [
      "[[-19 -18 -17 -16 -15]\n",
      " [-14 -13 -12 -11 -10]\n",
      " [ -9  -8  -7  -6  -5]\n",
      " [ -4  -3  -2  -1   0]]\n"
     ]
    }
   ],
   "source": [
    "print(X)"
   ]
  },
  {
   "cell_type": "code",
   "execution_count": null,
   "id": "1ba1363b",
   "metadata": {},
   "outputs": [
    {
     "name": "stdout",
     "output_type": "stream",
     "text": [
      "[-19 -13  -7  -1]\n"
     ]
    }
   ],
   "source": [
    "z = np.diag(X) #default, k=0 \n",
    "print(z)"
   ]
  },
  {
   "cell_type": "code",
   "execution_count": 35,
   "id": "901ba045",
   "metadata": {},
   "outputs": [
    {
     "name": "stdout",
     "output_type": "stream",
     "text": [
      "[-18 -12  -6   0]\n"
     ]
    }
   ],
   "source": [
    "z = np.diag(X, k=1) #elements above the main diagonal\n",
    "print(z)"
   ]
  },
  {
   "cell_type": "code",
   "execution_count": null,
   "id": "237df313",
   "metadata": {},
   "outputs": [
    {
     "name": "stdout",
     "output_type": "stream",
     "text": [
      "[-14  -8  -2]\n"
     ]
    }
   ],
   "source": [
    "z = np.diag(X, -1) #elements below the main diagonal, k is optional\n",
    "print(z)"
   ]
  },
  {
   "cell_type": "markdown",
   "id": "5af7e076",
   "metadata": {},
   "source": [
    "## `np.unique(ndarray)`\n",
    "\n",
    "Helps us see unique elements in an ndarray."
   ]
  },
  {
   "cell_type": "code",
   "execution_count": 39,
   "id": "59b41444",
   "metadata": {},
   "outputs": [
    {
     "name": "stdout",
     "output_type": "stream",
     "text": [
      "[[1 2 3]\n",
      " [5 2 8]\n",
      " [1 2 3]]\n"
     ]
    }
   ],
   "source": [
    "X = np.array([[1,2,3], [5,2,8], [1,2,3]])\n",
    "print(X)"
   ]
  },
  {
   "cell_type": "code",
   "execution_count": 41,
   "id": "9f761c32",
   "metadata": {},
   "outputs": [
    {
     "name": "stdout",
     "output_type": "stream",
     "text": [
      "[1 2 3 5 8] (5,)\n"
     ]
    }
   ],
   "source": [
    "z = np.unique(X)\n",
    "print(z, z.shape)"
   ]
  }
 ],
 "metadata": {
  "kernelspec": {
   "display_name": "Python 3",
   "language": "python",
   "name": "python3"
  },
  "language_info": {
   "codemirror_mode": {
    "name": "ipython",
    "version": 3
   },
   "file_extension": ".py",
   "mimetype": "text/x-python",
   "name": "python",
   "nbconvert_exporter": "python",
   "pygments_lexer": "ipython3",
   "version": "3.12.10"
  }
 },
 "nbformat": 4,
 "nbformat_minor": 5
}
