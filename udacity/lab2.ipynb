{
 "cells": [
  {
   "cell_type": "markdown",
   "id": "bf254d68",
   "metadata": {},
   "source": [
    "# Creating NumPy ndarrays"
   ]
  },
  {
   "cell_type": "markdown",
   "id": "01ae5380",
   "metadata": {},
   "source": [
    "There two ways of creating arrays.\n",
    "\n",
    "1. We can create numpy arrays from other array-like object using numpy arrays, like regular python lists\n",
    "2. We can use a variety of builtin numpy functions that quickly generates specific types of arrays"
   ]
  },
  {
   "cell_type": "code",
   "execution_count": 2,
   "id": "a9dc4898",
   "metadata": {},
   "outputs": [
    {
     "name": "stdout",
     "output_type": "stream",
     "text": [
      "[1 2 3 4 5] <class 'numpy.ndarray'>\n"
     ]
    }
   ],
   "source": [
    "# Example of a 1d array.\n",
    "import numpy as np\n",
    "x = np.array([1,2,3,4,5])\n",
    "print(x, type(x))"
   ]
  },
  {
   "cell_type": "code",
   "execution_count": 4,
   "id": "3d6c8937",
   "metadata": {},
   "outputs": [
    {
     "data": {
      "text/plain": [
       "dtype('int32')"
      ]
     },
     "execution_count": 4,
     "metadata": {},
     "output_type": "execute_result"
    }
   ],
   "source": [
    "x.dtype # to return the data type of elements in the np array\n",
    "# numpy handles more datatypes that python"
   ]
  },
  {
   "cell_type": "code",
   "execution_count": null,
   "id": "a1c6c283",
   "metadata": {},
   "outputs": [
    {
     "data": {
      "text/plain": [
       "(5,)"
      ]
     },
     "execution_count": 5,
     "metadata": {},
     "output_type": "execute_result"
    }
   ],
   "source": [
    "x.shape # returns the tuple of n positive integers that specify the size of each dimension, n being the number of dimensions in the array."
   ]
  },
  {
   "cell_type": "code",
   "execution_count": null,
   "id": "7201b35b",
   "metadata": {},
   "outputs": [
    {
     "data": {
      "text/plain": [
       "1"
      ]
     },
     "execution_count": 9,
     "metadata": {},
     "output_type": "execute_result"
    }
   ],
   "source": [
    "## 1-D array\n",
    "x = np.array([1, 2, 3])\n",
    "x.ndim #returns the number of dimensions"
   ]
  },
  {
   "cell_type": "code",
   "execution_count": 30,
   "id": "ed63821b",
   "metadata": {},
   "outputs": [
    {
     "name": "stdout",
     "output_type": "stream",
     "text": [
      "[[ 1  2  3]\n",
      " [ 4  5  6]\n",
      " [ 7  8  9]\n",
      " [10 11 12]]\n"
     ]
    },
    {
     "data": {
      "text/plain": [
       "2"
      ]
     },
     "execution_count": 30,
     "metadata": {},
     "output_type": "execute_result"
    }
   ],
   "source": [
    "## 2-D array\n",
    "Y = np.array([[1,2,3],[4,5,6],[7,8,9],[10,11,12]])\n",
    "print(Y)\n",
    "Y.ndim"
   ]
  },
  {
   "cell_type": "code",
   "execution_count": null,
   "id": "eb6d39eb",
   "metadata": {},
   "outputs": [
    {
     "data": {
      "text/plain": [
       "(4, 3)"
      ]
     },
     "execution_count": 11,
     "metadata": {},
     "output_type": "execute_result"
    }
   ],
   "source": [
    "Y.shape # (row, col). Note the rows is the 1st dimension and the colums is the second dimension"
   ]
  },
  {
   "cell_type": "code",
   "execution_count": null,
   "id": "b66a2048",
   "metadata": {},
   "outputs": [
    {
     "data": {
      "text/plain": [
       "12"
      ]
     },
     "execution_count": 13,
     "metadata": {},
     "output_type": "execute_result"
    }
   ],
   "source": [
    "x.size\n",
    "Y.size # size retins the total number of elements in an ndimensional array.\n",
    "# In reneral, we say an array with n dimensions has a rank n."
   ]
  },
  {
   "cell_type": "code",
   "execution_count": null,
   "id": "ceb3050f",
   "metadata": {},
   "outputs": [
    {
     "name": "stdout",
     "output_type": "stream",
     "text": [
      "['Hello' 'World']\n",
      "shape: (2,)\n",
      "size: 2\n",
      "class: <class 'numpy.ndarray'>\n",
      "dtype: <U5\n"
     ]
    }
   ],
   "source": [
    "# Strings\n",
    "x = np.array([\"Hello\", \"World\"])\n",
    "print(x)\n",
    "print(\"shape:\", x.shape)\n",
    "print(\"size:\", x.size)\n",
    "print(\"class:\", type(x))\n",
    "print(\"dtype:\", x.dtype) # stored unicode strings of k characters, where k is the len of the maximum elements in ndarray"
   ]
  },
  {
   "cell_type": "code",
   "execution_count": 31,
   "metadata": {},
   "outputs": [
    {
     "name": "stdout",
     "output_type": "stream",
     "text": [
      "['1' '2' 'World']\n",
      "shape: (3,)\n",
      "size: 3\n",
      "class: <class 'numpy.ndarray'>\n",
      "dtype: <U11\n"
     ]
    }
   ],
   "source": [
    "# Mixing Integers and Strings\n",
    "x = np.array([1, 2, \"World\"])\n",
    "print(x)\n",
    "print(\"shape:\", x.shape)\n",
    "print(\"size:\", x.size)\n",
    "print(\"class:\", type(x))\n",
    "print(\"dtype:\", x.dtype) # even thought the python list had mixed datatypes, the array function created a numpy array with all elements of the same datatype U11 (UNICODE strings of 11 characters)\n",
    "# unlike python lists, numpy arrays must contain elements of the same datatype."
   ]
  },
  {
   "cell_type": "code",
   "execution_count": null,
   "id": "3e3bc053",
   "metadata": {},
   "outputs": [
    {
     "name": "stdout",
     "output_type": "stream",
     "text": [
      "[1.  2.  2.5]\n",
      "shape: (3,)\n",
      "size: 3\n",
      "class: <class 'numpy.ndarray'>\n",
      "dtype: float64\n"
     ]
    }
   ],
   "source": [
    "# Mixing Integers and Floats\n",
    "x = np.array([1, 2, 2.5])\n",
    "print(x)\n",
    "print(\"shape:\", x.shape)\n",
    "print(\"size:\", x.size)\n",
    "print(\"class:\", type(x))\n",
    "print(\"dtype:\", x.dtype) # All elements will be assigned the float64 dtype in a process called upcasting"
   ]
  },
  {
   "cell_type": "code",
   "execution_count": 33,
   "id": "041c62eb",
   "metadata": {},
   "outputs": [
    {
     "name": "stdout",
     "output_type": "stream",
     "text": [
      "[1 2 7]\n",
      "shape: (3,)\n",
      "size: 3\n",
      "class: <class 'numpy.ndarray'>\n",
      "dtype: int64\n"
     ]
    }
   ],
   "source": [
    "# Specifying the dtype\n",
    "x = np.array([1.8, 2.99, 7.5], dtype=np.int64)\n",
    "print(x)\n",
    "print(\"shape:\", x.shape)\n",
    "print(\"size:\", x.size)\n",
    "print(\"class:\", type(x))\n",
    "print(\"dtype:\", x.dtype) # All elements will be assigned the specified dtype."
   ]
  },
  {
   "cell_type": "code",
   "execution_count": null,
   "id": "47b76848",
   "metadata": {},
   "outputs": [],
   "source": [
    "# Saving arrays to files and Loading them\n",
    "x = np.array([\"This\", \"is\", \"an\", \"interesting\", \"demo\", 1,2,3])\n",
    "np.save(\"myFristSave\", x) # saves the array x into a file named myFirstSave.npy"
   ]
  },
  {
   "cell_type": "code",
   "execution_count": 36,
   "metadata": {},
   "outputs": [
    {
     "name": "stdout",
     "output_type": "stream",
     "text": [
      "['This' 'is' 'an' 'interesting' 'demo' '1' '2' '3']\n",
      "shape: (8,)\n",
      "size: 8\n",
      "class: <class 'numpy.ndarray'>\n",
      "dtype: <U11\n"
     ]
    }
   ],
   "source": [
    "y = np.load(\"myFristSave.npy\")\n",
    "print(y)\n",
    "print(\"shape:\", y.shape)\n",
    "print(\"size:\", y.size)\n",
    "print(\"class:\", type(y))\n",
    "print(\"dtype:\", y.dtype) # All elements will be "
   ]
  }
 ],
 "metadata": {
  "kernelspec": {
   "display_name": "Python 3",
   "language": "python",
   "name": "python3"
  },
  "language_info": {
   "codemirror_mode": {
    "name": "ipython",
    "version": 3
   },
   "file_extension": ".py",
   "mimetype": "text/x-python",
   "name": "python",
   "nbconvert_exporter": "python",
   "pygments_lexer": "ipython3",
   "version": "3.12.10"
  }
 },
 "nbformat": 4,
 "nbformat_minor": 5
}
