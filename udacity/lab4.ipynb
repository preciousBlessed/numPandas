{
 "cells": [
  {
   "cell_type": "markdown",
   "id": "0ef56635",
   "metadata": {},
   "source": [
    "# Accessing, Inserting and Deleting Elements from ndArrays"
   ]
  },
  {
   "cell_type": "code",
   "execution_count": 1,
   "id": "051eb9ff",
   "metadata": {},
   "outputs": [],
   "source": [
    "import numpy as np"
   ]
  },
  {
   "cell_type": "markdown",
   "id": "92cd2614",
   "metadata": {},
   "source": [
    "Numpy nparrays are mutable, meaning we can change the elements in them after we have created them."
   ]
  },
  {
   "cell_type": "markdown",
   "id": "04b359c2",
   "metadata": {},
   "source": [
    "## Slicing an ndArray\n",
    "\n",
    "This allows us to retrive any subset of the ndArray we want. This is applicable in separating data, e.g., when dividing the data into training, testing and cross-validation sets."
   ]
  },
  {
   "cell_type": "markdown",
   "id": "3c9ac76c",
   "metadata": {},
   "source": [
    "## Accessing Elements Through Indexing"
   ]
  },
  {
   "cell_type": "code",
   "execution_count": 2,
   "id": "f645eec2",
   "metadata": {},
   "outputs": [
    {
     "name": "stdout",
     "output_type": "stream",
     "text": [
      "[1 2 3 4 5]\n"
     ]
    }
   ],
   "source": [
    "x = np.array([1,2,3,4,5])\n",
    "print(x)"
   ]
  },
  {
   "cell_type": "code",
   "execution_count": 4,
   "id": "4c8331c6",
   "metadata": {},
   "outputs": [
    {
     "name": "stdout",
     "output_type": "stream",
     "text": [
      "1st elem: 1 negative indices also returns:  1\n",
      "2nd elem: 2 negative indices also returns:  2\n",
      "last elem: 5 negative indices also returns:  5\n"
     ]
    }
   ],
   "source": [
    "print(\"1st elem:\", x[0], \"negative indices also returns: \", x[-5])\n",
    "print(\"2nd elem:\", x[1], \"negative indices also returns: \",x[-4])\n",
    "print(\"last elem:\", x[-1], \"negative indices also returns: \",x[4])"
   ]
  },
  {
   "cell_type": "markdown",
   "id": "2e8ff6db",
   "metadata": {},
   "source": [
    "## Modifying Elements in ndArray"
   ]
  },
  {
   "cell_type": "code",
   "execution_count": 7,
   "id": "4ca41c0a",
   "metadata": {},
   "outputs": [
    {
     "name": "stdout",
     "output_type": "stream",
     "text": [
      "[ 1  2  3 20  5]\n"
     ]
    }
   ],
   "source": [
    "x[3] = 20\n",
    "print(x)"
   ]
  },
  {
   "cell_type": "code",
   "execution_count": 11,
   "id": "2d17922f",
   "metadata": {},
   "outputs": [
    {
     "name": "stdout",
     "output_type": "stream",
     "text": [
      "[[1 2 3]\n",
      " [4 5 6]\n",
      " [7 8 9]]\n",
      "\n",
      "elem at (0, 0) : 1\n",
      "elem at (0, 1) : 2\n",
      "elem at (2, 2) : 9\n",
      "\n",
      "[[50  2  3]\n",
      " [ 4  5  6]\n",
      " [ 7  8  9]]\n"
     ]
    }
   ],
   "source": [
    "# For Rank 2 numpy arrays\n",
    "X = np.arange(1, 10).reshape((3,3))\n",
    "print(X)\n",
    "\n",
    "print()\n",
    "\n",
    "# Accessing some elements\n",
    "print(\"elem at (0, 0) :\", X[0, 0]) # remember this is zero indexing\n",
    "print(\"elem at (0, 1) :\", X[0, 1])\n",
    "print(\"elem at (2, 2) :\", X[2, 2])\n",
    "\n",
    "print()\n",
    "\n",
    "# Modifying elements\n",
    "X[0,0] = 50\n",
    "print(X)"
   ]
  },
  {
   "cell_type": "markdown",
   "id": "8e29b3b9",
   "metadata": {},
   "source": [
    "## Deleting elements and the `axis` Keyword\n",
    "\n",
    "When deleting, for a rank 1 array, the `axis` keyword is not required, for a rank 2 arrays, the `axis=0` selects rows and `axis=1` selects columns. "
   ]
  },
  {
   "cell_type": "code",
   "execution_count": 13,
   "id": "53605afa",
   "metadata": {},
   "outputs": [
    {
     "name": "stdout",
     "output_type": "stream",
     "text": [
      "[ 4  5  6  7  8  9 10 11 12 13 14]\n",
      "[ 5  6  7  8  9 10 11 12 13]\n"
     ]
    }
   ],
   "source": [
    "# Deleting the first and last element of a rank 1 array\n",
    "\n",
    "X = np.arange(4, 15)\n",
    "print(X)\n",
    "\n",
    "X = np.delete(X, [0, -1])\n",
    "print(X)"
   ]
  },
  {
   "cell_type": "code",
   "execution_count": 19,
   "id": "21083795",
   "metadata": {},
   "outputs": [
    {
     "name": "stdout",
     "output_type": "stream",
     "text": [
      "[[ 1  2  3  4  5  6  7]\n",
      " [ 8  9 10 11 12 13 14]\n",
      " [15 16 17 18 19 20 21]\n",
      " [22 23 24 25 26 27 28]]\n",
      "\n",
      "[[ 8  9 10 11 12 13 14]\n",
      " [15 16 17 18 19 20 21]\n",
      " [22 23 24 25 26 27 28]]\n",
      "\n",
      "[[ 8 10 12 14]\n",
      " [15 17 19 21]\n",
      " [22 24 26 28]]\n"
     ]
    }
   ],
   "source": [
    "# Deleting the first and last element of a rank 2 array\n",
    "\n",
    "X = np.arange(1, 29).reshape(4,7)\n",
    "print(X)\n",
    "\n",
    "print()\n",
    "X = np.delete(X, 0, axis=0) #delete the first row\n",
    "print(X)\n",
    "\n",
    "print()\n",
    "X = np.delete(X, [1,3,5], axis=1) #delete columns 2, 4, and 6\n",
    "print(X)"
   ]
  },
  {
   "cell_type": "markdown",
   "id": "aa8b1ae2",
   "metadata": {},
   "source": [
    "## Appending"
   ]
  },
  {
   "cell_type": "code",
   "execution_count": 24,
   "id": "375ae5b2",
   "metadata": {},
   "outputs": [
    {
     "name": "stdout",
     "output_type": "stream",
     "text": [
      "[1 2 3 4 5]\n",
      "\n",
      "[1 2 3 4 5 6]\n",
      "\n",
      "[1 2 3 4 5 6 7 8]\n"
     ]
    }
   ],
   "source": [
    "x = np.array([1,2,3,4,5])\n",
    "print(X)\n",
    "\n",
    "print()\n",
    "x = np.append(x, 6) # append single\n",
    "print(x)\n",
    "\n",
    "print()\n",
    "x = np.append(x, [7,8]) # append multiple\n",
    "print(x)"
   ]
  },
  {
   "cell_type": "code",
   "execution_count": 34,
   "id": "a7da2778",
   "metadata": {},
   "outputs": [
    {
     "name": "stdout",
     "output_type": "stream",
     "text": [
      "(3,)\n",
      "3\n",
      "(1, 3)\n",
      "3\n",
      "(3, 1)\n",
      "3\n"
     ]
    }
   ],
   "source": [
    "# Note the distictions\n",
    "o = np.array([1,2,3]) #list\n",
    "print(o.shape)\n",
    "print(a.size)\n",
    "\n",
    "a = np.array([[1,2,3]]) #row vector\n",
    "print(a.shape)\n",
    "print(a.size)\n",
    "\n",
    "b = np.array([[1],[2],[3]])# column vector\n",
    "print(b.shape)\n",
    "print(a.size)"
   ]
  },
  {
   "cell_type": "code",
   "execution_count": null,
   "id": "a6755693",
   "metadata": {},
   "outputs": [
    {
     "name": "stdout",
     "output_type": "stream",
     "text": [
      "[[1 2 3]\n",
      " [4 5 6]\n",
      " [7 8 9]]\n",
      "\n",
      "[[ 1  2  3]\n",
      " [ 4  5  6]\n",
      " [ 7  8  9]\n",
      " [10 11 12]]\n"
     ]
    }
   ],
   "source": [
    "# Appening to 2darrays\n",
    "x = np.arange(1,10).reshape(3,3)\n",
    "print(x)\n",
    "\n",
    "print()\n",
    "x = np.append(x, [[10,11,12]], axis=0) #append to row. Shape should be a row vector\n",
    "print(x)"
   ]
  },
  {
   "cell_type": "code",
   "execution_count": 35,
   "id": "541269a5",
   "metadata": {},
   "outputs": [
    {
     "name": "stdout",
     "output_type": "stream",
     "text": [
      "[[ 1  2  3  0  0]\n",
      " [ 4  5  6  0  0]\n",
      " [ 7  8  9  0  0]\n",
      " [10 11 12  0  0]]\n"
     ]
    }
   ],
   "source": [
    "# Appending to columns\n",
    "x = np.append(x, [[0],[0],[0],[0]], axis=1) # notice how we append to columns here. Append a column vector.\n",
    "print(x)"
   ]
  },
  {
   "cell_type": "markdown",
   "id": "08f988ac",
   "metadata": {},
   "source": [
    "Note append always adds to the last row or last column What if we wanna add somewhere inbetween?"
   ]
  },
  {
   "cell_type": "markdown",
   "id": "ae91f0d0",
   "metadata": {},
   "source": [
    "## Inserting elements into ndArrays\n",
    "\n",
    "We need the array, index, element and axis."
   ]
  },
  {
   "cell_type": "markdown",
   "id": "471e2aa9",
   "metadata": {},
   "source": [
    "## `np.insert(array, index, elem, axis)`"
   ]
  },
  {
   "cell_type": "code",
   "execution_count": null,
   "id": "bdf283a9",
   "metadata": {},
   "outputs": [
    {
     "name": "stdout",
     "output_type": "stream",
     "text": [
      "[1 2 3 4]\n",
      "\n",
      "[  1   2 100   3   4]\n"
     ]
    }
   ],
   "source": [
    "# 1d example\n",
    "x = np.arange(1,5)\n",
    "print(x)\n",
    "\n",
    "print()\n",
    "\n",
    "x = np.insert(x, 2, 100, axis=0) #axis=0 is row, axis=1 is column, but axis=1 will cause error here.\n",
    "print(x) # 100 inserted in index 2 or 3rd position"
   ]
  },
  {
   "cell_type": "code",
   "execution_count": 51,
   "id": "95b705e7",
   "metadata": {},
   "outputs": [
    {
     "name": "stdout",
     "output_type": "stream",
     "text": [
      "[[1 2 3]\n",
      " [4 5 6]\n",
      " [7 8 9]]\n",
      "\n",
      "[[1 2 3]\n",
      " [0 0 0]\n",
      " [4 5 6]\n",
      " [7 8 9]]\n"
     ]
    }
   ],
   "source": [
    "# 2d example\n",
    "x = np.arange(1, 10).reshape(3,3)\n",
    "print(x)\n",
    "\n",
    "print()\n",
    "x = np.insert(x, 1, [0, 0, 0], axis=0) # insert zero rows in second row (index 1)\n",
    "print(x) # insert3d"
   ]
  },
  {
   "cell_type": "code",
   "execution_count": 50,
   "id": "bf4fabc4",
   "metadata": {},
   "outputs": [
    {
     "name": "stdout",
     "output_type": "stream",
     "text": [
      "[[1 2 3]\n",
      " [4 5 6]\n",
      " [7 8 9]]\n",
      "\n",
      "[[1 0 2 3]\n",
      " [4 1 5 6]\n",
      " [7 2 8 9]]\n"
     ]
    }
   ],
   "source": [
    "y = np.arange(1, 10).reshape(3,3)\n",
    "print(y)\n",
    "\n",
    "print()\n",
    "y = np.insert(y, 1, [0,1,2], axis=1) # insert zero columns in 2nd column (index 1)\n",
    "print(y) # insert3d"
   ]
  },
  {
   "cell_type": "code",
   "execution_count": 53,
   "id": "2c59fe5e",
   "metadata": {},
   "outputs": [
    {
     "name": "stdout",
     "output_type": "stream",
     "text": [
      "[[1 2 3]\n",
      " [4 5 6]]\n",
      "\n",
      "[[1 5 2 3]\n",
      " [4 5 5 6]]\n"
     ]
    }
   ],
   "source": [
    "# Insert a column full of fives\n",
    "x = np.array([[1,2,3],[4,5,6]])\n",
    "print(x)\n",
    "\n",
    "print()\n",
    "x = np.insert(x, 1, 5, axis=1)\n",
    "print(x)"
   ]
  },
  {
   "cell_type": "markdown",
   "id": "59749873",
   "metadata": {},
   "source": [
    "## Stacking Numpy Arrays"
   ]
  },
  {
   "cell_type": "markdown",
   "id": "102d36cf",
   "metadata": {},
   "source": [
    "To stack arrays, the shape of the arrays must match. We can stack vertically or horizontally."
   ]
  },
  {
   "cell_type": "code",
   "execution_count": 56,
   "id": "60d88106",
   "metadata": {},
   "outputs": [
    {
     "name": "stdout",
     "output_type": "stream",
     "text": [
      "rank 1 array:  [1 2]\n",
      "rank 2 array: \n",
      " [[3 4]\n",
      " [5 6]]\n"
     ]
    }
   ],
   "source": [
    "x = np.array([1,2])\n",
    "y = np.array([[3,4], [5,6]])\n",
    "\n",
    "print(\"rank 1 array: \", x)\n",
    "print(\"rank 2 array: \\n\", y)"
   ]
  },
  {
   "cell_type": "code",
   "execution_count": null,
   "id": "4eacb520",
   "metadata": {},
   "outputs": [
    {
     "name": "stdout",
     "output_type": "stream",
     "text": [
      "[[1 2]\n",
      " [3 4]\n",
      " [5 6]]\n",
      "\n",
      "[[3 4]\n",
      " [5 6]\n",
      " [1 2]]\n"
     ]
    }
   ],
   "source": [
    "# Vertical stacking\n",
    "z = np.vstack((x, y)) # stack x ontop\n",
    "print(z)\n",
    "\n",
    "print()\n",
    "z = np.vstack((y, x)) # stack x below\n",
    "print(z)"
   ]
  },
  {
   "cell_type": "code",
   "execution_count": 59,
   "id": "db9e53ea",
   "metadata": {},
   "outputs": [
    {
     "name": "stdout",
     "output_type": "stream",
     "text": [
      "[[3 4 1]\n",
      " [5 6 2]]\n",
      "\n",
      "[[1 3 4]\n",
      " [2 5 6]]\n"
     ]
    }
   ],
   "source": [
    "# Horizontal stacking\n",
    "z = np.hstack((y, x.reshape(2,1))) # convert x so that it has same rows as y to h-stack, stack to the right\n",
    "print(z)\n",
    "\n",
    "print()\n",
    "z = np.hstack((x.reshape(2,1), y))\n",
    "print(z)"
   ]
  },
  {
   "cell_type": "markdown",
   "id": "ef55c6e8",
   "metadata": {},
   "source": [
    "## Exercise"
   ]
  },
  {
   "cell_type": "code",
   "execution_count": 69,
   "id": "2ef87846",
   "metadata": {},
   "outputs": [
    {
     "name": "stdout",
     "output_type": "stream",
     "text": [
      "[[4 4]\n",
      " [4 4]]\n",
      "\n",
      "[[ 3  1]\n",
      " [-1  3]]\n",
      "\n",
      "Matrix Sum\n",
      "[[7 5]\n",
      " [3 7]]\n",
      "\n",
      "Matrix Difference\n",
      "[[1 3]\n",
      " [5 1]]\n",
      "\n",
      "Element-wise Product\n",
      "[[12  4]\n",
      " [-4 12]]\n",
      "\n",
      "Element-wise Division\n",
      "[[ 1.33333333  4.        ]\n",
      " [-4.          1.33333333]]\n"
     ]
    }
   ],
   "source": [
    "A = np.full((2,2), 4)\n",
    "print(A)\n",
    "\n",
    "print()\n",
    "B = np.array([[3,1], [-1, 3]])\n",
    "print(B)\n",
    "\n",
    "print(\"\\nMatrix Sum\") # Matrix sums\n",
    "C = A + B\n",
    "print(C)\n",
    "\n",
    "print(\"\\nMatrix Difference\") # Matrix difference\n",
    "C = A - B\n",
    "print(C)\n",
    "\n",
    "print(\"\\nElement-wise Product\") # Element-wise Product (Hadamard's)\n",
    "C = A * B\n",
    "print(C)\n",
    "\n",
    "print(\"\\nElement-wise Division\") # Element-wise Division\n",
    "C = A / B\n",
    "print(C)"
   ]
  },
  {
   "cell_type": "markdown",
   "id": "05a498f2",
   "metadata": {},
   "source": [
    "Is there a way to do matrix products instead of Hadamard's product? If yes, find the product $C = AB$ and $D = BA$. For this two matrices $A$ and $B$, is the operation of prodduct commutative?"
   ]
  },
  {
   "cell_type": "code",
   "execution_count": 73,
   "id": "9ba3b1ee",
   "metadata": {},
   "outputs": [
    {
     "name": "stdout",
     "output_type": "stream",
     "text": [
      "[[ 8 16]\n",
      " [ 8 16]]\n",
      "\n",
      "[[16 16]\n",
      " [ 8  8]]\n"
     ]
    }
   ],
   "source": [
    "# Solution\n",
    "\n",
    "C = A.dot(B)\n",
    "print(C)\n",
    "\n",
    "print()\n",
    "D = B.dot(A)\n",
    "print(D)"
   ]
  },
  {
   "cell_type": "markdown",
   "id": "cff45693",
   "metadata": {},
   "source": [
    "$AB \\ne BA$, hence, matrix product is not always commutative, only and only when $A = B^{-1}$ or $B = A^{-1}$ or $A = 0$ or $B = 0$"
   ]
  },
  {
   "cell_type": "code",
   "execution_count": 76,
   "id": "0b62b6fa",
   "metadata": {},
   "outputs": [
    {
     "name": "stdout",
     "output_type": "stream",
     "text": [
      "[[0. 0.]\n",
      " [0. 0.]]\n",
      "\n",
      "[[0. 0.]\n",
      " [0. 0.]]\n"
     ]
    }
   ],
   "source": [
    "A = np.zeros((2,2))\n",
    "B = np.full((2,2), -1)\n",
    "\n",
    "C = A.dot(B)\n",
    "D = B.dot(A)\n",
    "\n",
    "print(C, D, sep=\"\\n\\n\")"
   ]
  }
 ],
 "metadata": {
  "kernelspec": {
   "display_name": "Python 3",
   "language": "python",
   "name": "python3"
  },
  "language_info": {
   "codemirror_mode": {
    "name": "ipython",
    "version": 3
   },
   "file_extension": ".py",
   "mimetype": "text/x-python",
   "name": "python",
   "nbconvert_exporter": "python",
   "pygments_lexer": "ipython3",
   "version": "3.13.5"
  }
 },
 "nbformat": 4,
 "nbformat_minor": 5
}
