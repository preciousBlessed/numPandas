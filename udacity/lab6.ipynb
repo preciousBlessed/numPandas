{
 "cells": [
  {
   "cell_type": "markdown",
   "id": "d0d08e3e",
   "metadata": {},
   "source": [
    "# Boolean Indexing, Set Operations, and Sorting"
   ]
  },
  {
   "cell_type": "markdown",
   "id": "a9716df5",
   "metadata": {},
   "source": [
    "How do you handle situations where you don't know the indices of the elemets you want to select in an ndarray?"
   ]
  },
  {
   "cell_type": "code",
   "execution_count": 1,
   "id": "46805264",
   "metadata": {},
   "outputs": [],
   "source": [
    "import numpy as np"
   ]
  },
  {
   "cell_type": "markdown",
   "id": "f5e11be0",
   "metadata": {},
   "source": [
    "Supposing we have a 10000 x 10000 array of random integers ranging from 1 to 15000, and we only want to select integers that are less than 20, boolean indexing can help us, by enabling us select elements using logical arguments instead of explicit indices."
   ]
  },
  {
   "cell_type": "code",
   "execution_count": 3,
   "id": "e00a311a",
   "metadata": {},
   "outputs": [
    {
     "name": "stdout",
     "output_type": "stream",
     "text": [
      "[[ 0  1  2  3  4]\n",
      " [ 5  6  7  8  9]\n",
      " [10 11 12 13 14]\n",
      " [15 16 17 18 19]\n",
      " [20 21 22 23 24]]\n"
     ]
    }
   ],
   "source": [
    "X = np.arange(25).reshape(5,5)\n",
    "print(X)"
   ]
  },
  {
   "cell_type": "code",
   "execution_count": 4,
   "id": "55e73da1",
   "metadata": {},
   "outputs": [
    {
     "name": "stdout",
     "output_type": "stream",
     "text": [
      "[11 12 13 14 15 16 17 18 19 20 21 22 23 24] (14,)\n"
     ]
    }
   ],
   "source": [
    "# Select the elements greater than 10\n",
    "z = X[X>10]\n",
    "print(z, z.shape)"
   ]
  },
  {
   "cell_type": "code",
   "execution_count": 5,
   "id": "1dfc9a4c",
   "metadata": {},
   "outputs": [
    {
     "name": "stdout",
     "output_type": "stream",
     "text": [
      "[0 1 2 3 4 5 6 7]\n"
     ]
    }
   ],
   "source": [
    "# Select the elements less or equal to 7\n",
    "z = X[X <= 7]\n",
    "print(z) "
   ]
  },
  {
   "cell_type": "code",
   "execution_count": null,
   "id": "4bdd751c",
   "metadata": {},
   "outputs": [
    {
     "name": "stdout",
     "output_type": "stream",
     "text": [
      "[11 12 13 14 15 16]\n"
     ]
    }
   ],
   "source": [
    "# Select the elements greater than 10 and less than 17\n",
    "z = X[(X > 10) & (X < 17)] #brackets are very important here.\n",
    "print(z)"
   ]
  },
  {
   "cell_type": "markdown",
   "id": "fbb8410f",
   "metadata": {},
   "source": [
    "We can use boolean indexing to assign."
   ]
  },
  {
   "cell_type": "code",
   "execution_count": 9,
   "id": "4b473d5b",
   "metadata": {},
   "outputs": [
    {
     "name": "stdout",
     "output_type": "stream",
     "text": [
      "[[ 0  1  2  3  4]\n",
      " [ 5  6  7  8  9]\n",
      " [10 -1 -1 -1 -1]\n",
      " [-1 -1 17 18 19]\n",
      " [20 21 22 23 24]]\n"
     ]
    }
   ],
   "source": [
    "# all elements satisfying 10<el<17 should be reassigned to -1\n",
    "X[(X > 10) & (X < 17)] = -1\n",
    "print(X)"
   ]
  },
  {
   "cell_type": "markdown",
   "id": "15676062",
   "metadata": {},
   "source": [
    "## Set Operations"
   ]
  },
  {
   "cell_type": "markdown",
   "id": "bc4202f0",
   "metadata": {},
   "source": [
    "Useful when comparing 2 numpy arrays, for example, to find common elements."
   ]
  },
  {
   "cell_type": "code",
   "execution_count": 14,
   "id": "9a00a829",
   "metadata": {},
   "outputs": [],
   "source": [
    "x = np.array([1,2,3,4,5])\n",
    "y = np.array([6,7,2,8,4])"
   ]
  },
  {
   "cell_type": "markdown",
   "id": "ba3d2cf5",
   "metadata": {},
   "source": [
    "### Intersection, Difference, Union"
   ]
  },
  {
   "cell_type": "code",
   "execution_count": 15,
   "id": "d1280691",
   "metadata": {},
   "outputs": [
    {
     "name": "stdout",
     "output_type": "stream",
     "text": [
      "[2 4]\n"
     ]
    }
   ],
   "source": [
    "# Intersection\n",
    "print(np.intersect1d(x, y))"
   ]
  },
  {
   "cell_type": "code",
   "execution_count": 16,
   "id": "1cea66c9",
   "metadata": {},
   "outputs": [
    {
     "name": "stdout",
     "output_type": "stream",
     "text": [
      "[1 3 5]\n"
     ]
    }
   ],
   "source": [
    "# Difference\n",
    "print(np.setdiff1d(x,y))"
   ]
  },
  {
   "cell_type": "code",
   "execution_count": 17,
   "id": "1e4ad02c",
   "metadata": {},
   "outputs": [
    {
     "name": "stdout",
     "output_type": "stream",
     "text": [
      "[1 2 3 4 5 6 7 8]\n"
     ]
    }
   ],
   "source": [
    "# Union\n",
    "print(np.union1d(x,y))"
   ]
  },
  {
   "cell_type": "markdown",
   "id": "084333d6",
   "metadata": {},
   "source": [
    "# Sorting Numpy Arrays"
   ]
  },
  {
   "cell_type": "markdown",
   "id": "5eb1d495",
   "metadata": {},
   "source": [
    "Using sort as a function, the original array is not change (sorting out of place). But when used as a method, sort affects the original array (sorting in place)."
   ]
  },
  {
   "cell_type": "code",
   "execution_count": 24,
   "id": "e1504b26",
   "metadata": {},
   "outputs": [
    {
     "name": "stdout",
     "output_type": "stream",
     "text": [
      "[ 9  1  4  8  6  2  8  7  6 10]\n"
     ]
    }
   ],
   "source": [
    "x = np.random.randint(1,11, size=(10,))\n",
    "print(x)"
   ]
  },
  {
   "cell_type": "code",
   "execution_count": null,
   "id": "d6b2de27",
   "metadata": {},
   "outputs": [],
   "source": []
  }
 ],
 "metadata": {
  "kernelspec": {
   "display_name": "Python 3",
   "language": "python",
   "name": "python3"
  },
  "language_info": {
   "codemirror_mode": {
    "name": "ipython",
    "version": 3
   },
   "file_extension": ".py",
   "mimetype": "text/x-python",
   "name": "python",
   "nbconvert_exporter": "python",
   "pygments_lexer": "ipython3",
   "version": "3.12.10"
  }
 },
 "nbformat": 4,
 "nbformat_minor": 5
}
